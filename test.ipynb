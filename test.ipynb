{
 "cells": [
  {
   "cell_type": "code",
   "execution_count": null,
   "metadata": {},
   "outputs": [],
   "source": [
    "import random\n",
    "\n",
    "chances = 3\n",
    "secret = range(1, 11)\n",
    "num = random.choice(secret)\n",
    "\n",
    "while True:\n",
    "    try:\n",
    "        guess = int(input(\"guess the number between 1 and 10.\"))\n",
    "        break\n",
    "    except ValueError:\n",
    "        pass\n",
    "\n",
    "if guess == num:\n",
    "    print(\"you won!\")\n",
    "    exit()\n",
    "else:\n",
    "    print(f\"wrong! you have {chances} chances left.\")\n",
    "\n",
    "if chances == 0:\n",
    "    print(f\"you lost! the secret number was {num}.\")\n",
    "    exit()"
   ]
  }
 ],
 "metadata": {
  "kernelspec": {
   "display_name": "Python 3 (ipykernel)",
   "language": "python",
   "name": "python3"
  },
  "language_info": {
   "codemirror_mode": {
    "name": "ipython",
    "version": 3
   },
   "file_extension": ".py",
   "mimetype": "text/x-python",
   "name": "python",
   "nbconvert_exporter": "python",
   "pygments_lexer": "ipython3",
   "version": "3.11.3"
  }
 },
 "nbformat": 4,
 "nbformat_minor": 4
}
